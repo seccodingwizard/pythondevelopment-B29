{
 "cells": [
  {
   "cell_type": "code",
   "execution_count": null,
   "metadata": {},
   "outputs": [],
   "source": [
    "list datatype:"
   ]
  },
  {
   "cell_type": "code",
   "execution_count": 4,
   "metadata": {},
   "outputs": [],
   "source": [
    "students = ['raju','ajay','kumar','shilpa','shoni']"
   ]
  },
  {
   "cell_type": "code",
   "execution_count": 5,
   "metadata": {},
   "outputs": [
    {
     "name": "stdout",
     "output_type": "stream",
     "text": [
      "keep up the good work, raju\n",
      "keep up the good work, ajay\n",
      "keep up the good work, kumar\n",
      "keep up the good work, shilpa\n",
      "keep up the good work, shoni\n"
     ]
    }
   ],
   "source": [
    "for x in students:\n",
    "    print (f\"keep up the good work, {x}\")"
   ]
  },
  {
   "cell_type": "code",
   "execution_count": 9,
   "metadata": {},
   "outputs": [
    {
     "name": "stdout",
     "output_type": "stream",
     "text": [
      "keep up the good work, Raju\n",
      "send me your practise file of today as well, Raju\n",
      "\n",
      "keep up the good work, Ajay\n",
      "send me your practise file of today as well, Ajay\n",
      "\n",
      "keep up the good work, Kumar\n",
      "send me your practise file of today as well, Kumar\n",
      "\n",
      "keep up the good work, Shilpa\n",
      "send me your practise file of today as well, Shilpa\n",
      "\n",
      "keep up the good work, Shoni\n",
      "send me your practise file of today as well, Shoni\n",
      "\n"
     ]
    }
   ],
   "source": [
    "for x in students:\n",
    "    print (f\"keep up the good work, {x.title()}\")\n",
    "    print(f\"send me your practise file of today as well, {x.title()}\\n\")"
   ]
  },
  {
   "cell_type": "code",
   "execution_count": 10,
   "metadata": {},
   "outputs": [
    {
     "name": "stdout",
     "output_type": "stream",
     "text": [
      "keep up the good work, Raju\n",
      "send me your practise file of today as well, Raju\n",
      "\n",
      "keep up the good work, Ajay\n",
      "send me your practise file of today as well, Ajay\n",
      "\n",
      "keep up the good work, Kumar\n",
      "send me your practise file of today as well, Kumar\n",
      "\n",
      "keep up the good work, Shilpa\n",
      "send me your practise file of today as well, Shilpa\n",
      "\n",
      "keep up the good work, Shoni\n",
      "send me your practise file of today as well, Shoni\n",
      "\n",
      "thank you all for joining in the session today!\n"
     ]
    }
   ],
   "source": [
    "for x in students:\n",
    "    print (f\"keep up the good work, {x.title()}\")\n",
    "    print(f\"send me your practise file of today as well, {x.title()}\\n\")\n",
    "print(\"thank you all for joining in the session today!\")"
   ]
  },
  {
   "cell_type": "code",
   "execution_count": 11,
   "metadata": {},
   "outputs": [
    {
     "name": "stdout",
     "output_type": "stream",
     "text": [
      "(200, 50)\n"
     ]
    }
   ],
   "source": [
    "dimension =(200,50)\n",
    "print(dimension)"
   ]
  },
  {
   "cell_type": "code",
   "execution_count": 13,
   "metadata": {},
   "outputs": [
    {
     "data": {
      "text/plain": [
       "tuple"
      ]
     },
     "execution_count": 13,
     "metadata": {},
     "output_type": "execute_result"
    }
   ],
   "source": [
    "type(dimension)"
   ]
  },
  {
   "cell_type": "code",
   "execution_count": 14,
   "metadata": {},
   "outputs": [
    {
     "ename": "TypeError",
     "evalue": "'tuple' object does not support item assignment",
     "output_type": "error",
     "traceback": [
      "\u001b[1;31m---------------------------------------------------------------------------\u001b[0m",
      "\u001b[1;31mTypeError\u001b[0m                                 Traceback (most recent call last)",
      "\u001b[1;32m<ipython-input-14-e68204ef90ce>\u001b[0m in \u001b[0;36m<module>\u001b[1;34m\u001b[0m\n\u001b[1;32m----> 1\u001b[1;33m \u001b[0mdimension\u001b[0m\u001b[1;33m[\u001b[0m\u001b[1;36m0\u001b[0m\u001b[1;33m]\u001b[0m\u001b[1;33m=\u001b[0m \u001b[1;36m250\u001b[0m\u001b[1;33m\u001b[0m\u001b[1;33m\u001b[0m\u001b[0m\n\u001b[0m",
      "\u001b[1;31mTypeError\u001b[0m: 'tuple' object does not support item assignment"
     ]
    }
   ],
   "source": [
    "dimension[0]= 250\n"
   ]
  },
  {
   "cell_type": "code",
   "execution_count": 17,
   "metadata": {},
   "outputs": [
    {
     "name": "stdout",
     "output_type": "stream",
     "text": [
      "(250, 50)\n"
     ]
    }
   ],
   "source": [
    "dimension= (250,50)\n",
    "print(dimension)"
   ]
  },
  {
   "cell_type": "code",
   "execution_count": null,
   "metadata": {},
   "outputs": [],
   "source": []
  }
 ],
 "metadata": {
  "kernelspec": {
   "display_name": "Python 3",
   "language": "python",
   "name": "python3"
  },
  "language_info": {
   "codemirror_mode": {
    "name": "ipython",
    "version": 3
   },
   "file_extension": ".py",
   "mimetype": "text/x-python",
   "name": "python",
   "nbconvert_exporter": "python",
   "pygments_lexer": "ipython3",
   "version": "3.8.3"
  }
 },
 "nbformat": 4,
 "nbformat_minor": 4
}
