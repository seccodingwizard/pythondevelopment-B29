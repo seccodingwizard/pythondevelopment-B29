{
 "cells": [
  {
   "cell_type": "code",
   "execution_count": 3,
   "metadata": {},
   "outputs": [],
   "source": [
    "students = ['ravi','mayur', 'priya','anusha','abhi','rahul']"
   ]
  },
  {
   "cell_type": "code",
   "execution_count": 4,
   "metadata": {},
   "outputs": [
    {
     "name": "stdout",
     "output_type": "stream",
     "text": [
      "['ravi', 'mayur', 'priya', 'anusha', 'abhi', 'rahul']\n"
     ]
    }
   ],
   "source": [
    "print(students)"
   ]
  },
  {
   "cell_type": "code",
   "execution_count": 5,
   "metadata": {},
   "outputs": [
    {
     "name": "stdout",
     "output_type": "stream",
     "text": [
      "['ravi', 'mayur']\n"
     ]
    }
   ],
   "source": [
    "print(students[0:2])"
   ]
  },
  {
   "cell_type": "code",
   "execution_count": 6,
   "metadata": {},
   "outputs": [
    {
     "name": "stdout",
     "output_type": "stream",
     "text": [
      "['ravi', 'anusha']\n"
     ]
    }
   ],
   "source": [
    "print(students[0:5:3])"
   ]
  },
  {
   "cell_type": "code",
   "execution_count": 7,
   "metadata": {},
   "outputs": [
    {
     "name": "stdout",
     "output_type": "stream",
     "text": [
      "['ravi', 'priya', 'abhi']\n"
     ]
    }
   ],
   "source": [
    "print(students[0:5:2])"
   ]
  },
  {
   "cell_type": "code",
   "execution_count": 8,
   "metadata": {},
   "outputs": [],
   "source": [
    "newstudents = ['ram','bharath','raju','ganga','karna','drona','arjun']"
   ]
  },
  {
   "cell_type": "code",
   "execution_count": 9,
   "metadata": {},
   "outputs": [
    {
     "name": "stdout",
     "output_type": "stream",
     "text": [
      "keep up the good work,ram\n"
     ]
    }
   ],
   "source": [
    "print(f\"keep up the good work,{newstudents[0]}\")"
   ]
  },
  {
   "cell_type": "code",
   "execution_count": 11,
   "metadata": {},
   "outputs": [
    {
     "name": "stdout",
     "output_type": "stream",
     "text": [
      "keep up the good work,Ram\n"
     ]
    }
   ],
   "source": [
    "print(f\"keep up the good work,{newstudents[0].title()}\")"
   ]
  },
  {
   "cell_type": "code",
   "execution_count": 12,
   "metadata": {},
   "outputs": [
    {
     "name": "stdout",
     "output_type": "stream",
     "text": [
      "keep up the good work,Ganga\n"
     ]
    }
   ],
   "source": [
    "print(f\"keep up the good work,{newstudents[3].title()}\")"
   ]
  },
  {
   "cell_type": "code",
   "execution_count": 14,
   "metadata": {},
   "outputs": [
    {
     "name": "stdout",
     "output_type": "stream",
     "text": [
      "keep up the good work,ram\n",
      "keep up the good work,bharath\n",
      "keep up the good work,raju\n",
      "keep up the good work,ganga\n",
      "keep up the good work,karna\n",
      "keep up the good work,drona\n",
      "keep up the good work,arjun\n"
     ]
    }
   ],
   "source": [
    "for student in newstudents:\n",
    " print(f\"keep up the good work,{student}\")\n",
    "    "
   ]
  },
  {
   "cell_type": "code",
   "execution_count": 15,
   "metadata": {},
   "outputs": [
    {
     "name": "stdout",
     "output_type": "stream",
     "text": [
      "keep up the good work,Ram\n",
      "keep up the good work,Bharath\n",
      "keep up the good work,Raju\n",
      "keep up the good work,Ganga\n",
      "keep up the good work,Karna\n",
      "keep up the good work,Drona\n",
      "keep up the good work,Arjun\n"
     ]
    }
   ],
   "source": [
    "for student in newstudents:\n",
    " print(f\"keep up the good work,{student.title()}\")\n",
    "    "
   ]
  },
  {
   "cell_type": "code",
   "execution_count": 17,
   "metadata": {},
   "outputs": [
    {
     "name": "stdout",
     "output_type": "stream",
     "text": [
      "keep up the good work,Ram\n",
      "keep up the good work,Bharath\n",
      "keep up the good work,Raju\n",
      "keep up the good work,Ganga\n",
      "keep up the good work,Karna\n",
      "keep up the good work,Drona\n",
      "keep up the good work,Arjun\n"
     ]
    }
   ],
   "source": [
    "for student in newstudents:\n",
    " print(f\"keep up the good work,{student.title()}\")"
   ]
  },
  {
   "cell_type": "code",
   "execution_count": 24,
   "metadata": {},
   "outputs": [
    {
     "name": "stdout",
     "output_type": "stream",
     "text": [
      "['ram', 'raju', 'karna']\n"
     ]
    }
   ],
   "source": [
    "print(newstudents[0:5:2])"
   ]
  },
  {
   "cell_type": "code",
   "execution_count": 26,
   "metadata": {},
   "outputs": [
    {
     "name": "stdout",
     "output_type": "stream",
     "text": [
      "keep up the good work,Ram\n",
      "i am looking forward to recive your files today,Ram\n",
      "keep up the good work,Bharath\n",
      "i am looking forward to recive your files today,Bharath\n",
      "keep up the good work,Raju\n",
      "i am looking forward to recive your files today,Raju\n",
      "keep up the good work,Ganga\n",
      "i am looking forward to recive your files today,Ganga\n",
      "keep up the good work,Karna\n",
      "i am looking forward to recive your files today,Karna\n",
      "keep up the good work,Drona\n",
      "i am looking forward to recive your files today,Drona\n",
      "keep up the good work,Arjun\n",
      "i am looking forward to recive your files today,Arjun\n"
     ]
    }
   ],
   "source": [
    "for student in newstudents:\n",
    " print(f\"keep up the good work,{student.title()}\")\n",
    " print(f\"i am looking forward to recive your files today,{student.title()}\")"
   ]
  },
  {
   "cell_type": "code",
   "execution_count": 27,
   "metadata": {},
   "outputs": [
    {
     "name": "stdout",
     "output_type": "stream",
     "text": [
      "keep up the good work,Ram\n",
      "i am looking forward to recive your files today,Ram.\n",
      "\n",
      "keep up the good work,Bharath\n",
      "i am looking forward to recive your files today,Bharath.\n",
      "\n",
      "keep up the good work,Raju\n",
      "i am looking forward to recive your files today,Raju.\n",
      "\n",
      "keep up the good work,Ganga\n",
      "i am looking forward to recive your files today,Ganga.\n",
      "\n",
      "keep up the good work,Karna\n",
      "i am looking forward to recive your files today,Karna.\n",
      "\n",
      "keep up the good work,Drona\n",
      "i am looking forward to recive your files today,Drona.\n",
      "\n",
      "keep up the good work,Arjun\n",
      "i am looking forward to recive your files today,Arjun.\n",
      "\n"
     ]
    }
   ],
   "source": [
    "for student in newstudents:\n",
    " print(f\"keep up the good work,{student.title()}\")\n",
    " print(f\"i am looking forward to recive your files today,{student.title()}.\\n\")"
   ]
  },
  {
   "cell_type": "code",
   "execution_count": null,
   "metadata": {},
   "outputs": [],
   "source": []
  }
 ],
 "metadata": {
  "kernelspec": {
   "display_name": "Python 3",
   "language": "python",
   "name": "python3"
  },
  "language_info": {
   "codemirror_mode": {
    "name": "ipython",
    "version": 3
   },
   "file_extension": ".py",
   "mimetype": "text/x-python",
   "name": "python",
   "nbconvert_exporter": "python",
   "pygments_lexer": "ipython3",
   "version": "3.8.3"
  }
 },
 "nbformat": 4,
 "nbformat_minor": 4
}
